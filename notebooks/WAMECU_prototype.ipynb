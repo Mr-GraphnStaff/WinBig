{
 "cells": [
  {
   "cell_type": "markdown",
   "id": "6ca1aa57",
   "metadata": {},
   "source": [
    "# WAMECU Bias Simulation Prototype\n",
    "\n",
    "This notebook provides a minimal simulation environment for exploring the WAMECU framework — an AI-assisted approach to quantifying bias in systems that are often treated as random. The notebook generates synthetic draws under controlled bias coefficients, illustrates how the WAMECU adjustment modifies baseline probabilities, and offers simple diagnostics for detecting and estimating bias."
   ]
  },
  {
   "cell_type": "markdown",
   "id": "aaf372d6",
   "metadata": {},
   "source": [
    "## 1. Imports and Utilities\n",
    "\n",
    "The helper functions below implement the core WAMECU relationship. The `wamecu_probabilities` function converts a vector of bias coefficients into a probability distribution. Bias coefficients are expected to average to zero; however, the helper function defensively normalizes the distribution to account for rounding or exploratory inputs. The `simulate_draws` utility produces synthetic outcome data so the rest of the notebook can focus on analysis."
   ]
  },
  {
   "cell_type": "code",
   "execution_count": 1,
   "id": "4d46021a",
   "metadata": {
    "execution": {
     "iopub.execute_input": "2025-09-28T01:12:57.397406Z",
     "iopub.status.busy": "2025-09-28T01:12:57.396984Z",
     "iopub.status.idle": "2025-09-28T01:13:00.012346Z",
     "shell.execute_reply": "2025-09-28T01:13:00.011453Z"
    }
   },
   "outputs": [],
   "source": [
    "import sys\n",
    "from pathlib import Path\n",
    "\n",
    "import matplotlib.pyplot as plt\n",
    "import numpy as np\n",
    "import pandas as pd\n",
    "\n",
    "plt.style.use(\"seaborn-v0_8\")\n",
    "\n",
    "project_root = Path().resolve()\n",
    "for candidate in {project_root / \"src\", project_root.parent / \"src\"}:\n",
    "    if candidate.exists() and str(candidate) not in sys.path:\n",
    "        sys.path.append(str(candidate))\n",
    "\n",
    "from wamecu import simulate_draws, wamecu_probabilities\n"
   ]
  },
  {
   "cell_type": "markdown",
   "id": "49aa29a2",
   "metadata": {},
   "source": [
    "## 2. Define a Baseline Scenario\n",
    "\n",
    "Start with a six-outcome system (e.g., a standard die). The bias coefficients below emphasize outcome 0 (analogous to side **1** on a die) and depress outcome 5. The remaining values are kept small to emulate subtle mechanical or environmental drift."
   ]
  },
  {
   "cell_type": "code",
   "execution_count": 2,
   "id": "073073c2",
   "metadata": {
    "execution": {
     "iopub.execute_input": "2025-09-28T01:13:00.021717Z",
     "iopub.status.busy": "2025-09-28T01:13:00.020678Z",
     "iopub.status.idle": "2025-09-28T01:13:00.033936Z",
     "shell.execute_reply": "2025-09-28T01:13:00.032961Z"
    }
   },
   "outputs": [
    {
     "data": {
      "text/plain": [
       "array([0.18      , 0.17      , 0.165     , 0.16333333, 0.16666667,\n",
       "       0.155     ])"
      ]
     },
     "execution_count": 2,
     "metadata": {},
     "output_type": "execute_result"
    }
   ],
   "source": [
    "n_outcomes = 6\n",
    "beta = np.array([0.08, 0.02, -0.01, -0.02, 0.0, -0.07])\n",
    "probabilities = wamecu_probabilities(n_outcomes, beta)\n",
    "probabilities"
   ]
  },
  {
   "cell_type": "markdown",
   "id": "a1ff49f7",
   "metadata": {},
   "source": [
    "The resulting distribution is close to the baseline 1/6 for each outcome but exhibits a measurable skew. Outcome 0 is favored, while outcome 5 is suppressed. The distribution is automatically renormalized so that the probabilities sum to 1."
   ]
  },
  {
   "cell_type": "markdown",
   "id": "0276a2c1",
   "metadata": {},
   "source": [
    "## 3. Simulate Synthetic Draws\n",
    "\n",
    "Run a set of synthetic trials to observe how the bias manifests in data. A reproducible random seed is used for deterministic runs, making the notebook convenient for demos and unit tests."
   ]
  },
  {
   "cell_type": "code",
   "execution_count": 3,
   "id": "c431b644",
   "metadata": {
    "execution": {
     "iopub.execute_input": "2025-09-28T01:13:00.038073Z",
     "iopub.status.busy": "2025-09-28T01:13:00.037486Z",
     "iopub.status.idle": "2025-09-28T01:13:00.056675Z",
     "shell.execute_reply": "2025-09-28T01:13:00.055126Z"
    }
   },
   "outputs": [
    {
     "data": {
      "text/plain": [
       "0    3616\n",
       "1    3439\n",
       "2    3214\n",
       "3    3307\n",
       "4    3330\n",
       "5    3094\n",
       "Name: count, dtype: int64"
      ]
     },
     "execution_count": 3,
     "metadata": {},
     "output_type": "execute_result"
    }
   ],
   "source": [
    "n_trials = 20_000\n",
    "outcomes = simulate_draws(probabilities, n_trials, seed=42)\n",
    "counts = pd.Series(outcomes).value_counts().sort_index()\n",
    "counts"
   ]
  },
  {
   "cell_type": "markdown",
   "id": "012b407d",
   "metadata": {},
   "source": [
    "## 4. Compare Observed and Expected Frequencies\n",
    "\n",
    "Visualize the empirical counts against the WAMECU-derived expectations. The chart highlights deviations that an analyst would investigate through anomaly detection or machine learning models within the broader framework."
   ]
  },
  {
   "cell_type": "code",
   "execution_count": 4,
   "id": "ea82134a",
   "metadata": {
    "execution": {
     "iopub.execute_input": "2025-09-28T01:13:00.060738Z",
     "iopub.status.busy": "2025-09-28T01:13:00.060390Z",
     "iopub.status.idle": "2025-09-28T01:13:00.320508Z",
     "shell.execute_reply": "2025-09-28T01:13:00.318980Z"
    }
   },
   "outputs": [
    {
     "data": {
      "image/png": "[encoded data removed]",
      "text/plain": [
       "<Figure size 800x400 with 1 Axes>"
      ]
     },
     "metadata": {},
     "output_type": "display_data"
    }
   ],
   "source": [
    "expected_counts = probabilities * n_trials\n",
    "fig, ax = plt.subplots(figsize=(8, 4))\n",
    "index = np.arange(n_outcomes)\n",
    "ax.bar(index - 0.15, counts.values, width=0.3, label=\"Observed\", color=\"#4C72B0\")\n",
    "ax.bar(index + 0.15, expected_counts, width=0.3, label=\"Expected\", color=\"#55A868\")\n",
    "ax.set_xlabel(\"Outcome\")\n",
    "ax.set_ylabel(\"Count\")\n",
    "ax.set_title(\"Observed vs. Expected Counts under WAMECU Bias\")\n",
    "ax.set_xticks(index)\n",
    "ax.legend()\n",
    "plt.show()"
   ]
  },
  {
   "cell_type": "markdown",
   "id": "1981c6f8",
   "metadata": {},
   "source": [
    "## 5. Estimate Bias Coefficients from Data\n",
    "\n",
    "Given observed counts, we can produce a quick estimate of the implied bias coefficients. The estimator compares empirical frequencies against the baseline uniform probabilities. In practice, this step would be augmented with confidence intervals, regularization, and domain-specific constraints."
   ]
  },
  {
   "cell_type": "code",
   "execution_count": 5,
   "id": "5194b61d",
   "metadata": {
    "execution": {
     "iopub.execute_input": "2025-09-28T01:13:00.324672Z",
     "iopub.status.busy": "2025-09-28T01:13:00.324298Z",
     "iopub.status.idle": "2025-09-28T01:13:00.334224Z",
     "shell.execute_reply": "2025-09-28T01:13:00.333186Z"
    }
   },
   "outputs": [
    {
     "data": {
      "text/plain": [
       "array([ 0.0848,  0.0317, -0.0358, -0.0079, -0.001 , -0.0718])"
      ]
     },
     "execution_count": 5,
     "metadata": {},
     "output_type": "execute_result"
    }
   ],
   "source": [
    "baseline_prob = np.full(n_outcomes, 1.0 / n_outcomes)\n",
    "empirical_prob = counts.values / n_trials\n",
    "# Avoid division by zero by masking low-frequency cases.\n",
    "mask = baseline_prob > 0\n",
    "estimated_beta = np.zeros_like(empirical_prob)\n",
    "estimated_beta[mask] = (empirical_prob[mask] / baseline_prob[mask]) - 1\n",
    "estimated_beta"
   ]
  },
  {
   "cell_type": "markdown",
   "id": "4c2486cc",
   "metadata": {},
   "source": [
    "These estimated coefficients are noisy due to finite sampling but follow the same pattern as the ground truth. Analysts could feed these estimates into anomaly detection routines, simulation calibrations, or machine learning models — all pillars of the WAMECU workflow."
   ]
  },
  {
   "cell_type": "markdown",
   "id": "00c82162",
   "metadata": {},
   "source": [
    "## 6. Next Steps\n",
    "\n",
    "* Add physics-driven or data-driven priors that constrain permissible bias coefficients.\n",
    "* Integrate anomaly detection methods (e.g., Bayesian change-point detection) for streaming data.\n",
    "* Train adaptive machine learning models on enriched metadata to predict real-time β dynamics.\n",
    "* Wrap the notebook in a lightweight dashboard for stakeholder reporting."
   ]
  }
 ],
 "metadata": {
  "language_info": {
   "codemirror_mode": {
    "name": "ipython",
    "version": 3
   },
   "file_extension": ".py",
   "mimetype": "text/x-python",
   "name": "python",
   "nbconvert_exporter": "python",
   "pygments_lexer": "ipython3",
   "version": "3.12.10"
  }
 },
 "nbformat": 4,
 "nbformat_minor": 5
}
