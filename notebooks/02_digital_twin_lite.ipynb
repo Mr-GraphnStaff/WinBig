{
 "cells": [
  {
   "cell_type": "markdown",
   "id": "26775f15",
   "metadata": {},
   "source": [
    "# 02 · Digital Twin Lite\n",
    "\n",
    "We build a toy digital twin where ball weight perturbations translate into WAMECU β shifts.\n",
    "The experiment emphasises bias detection, not exploitation, and adheres to the manifesto."
   ]
  },
  {
   "cell_type": "code",
   "execution_count": null,
   "id": "d0d876ec",
   "metadata": {},
   "outputs": [],
   "source": [
    "import numpy as np\n",
    "import pandas as pd\n",
    "import matplotlib.pyplot as plt\n",
    "import seaborn as sns\n",
    "\n",
    "from wamecu import wamecu_probabilities\n",
    "from wamecu.simulate import simulate_draws\n",
    "from wamecu.metrics import chi_square_test\n",
    "\n",
    "plt.style.use('seaborn-v0_8')\n",
    "RNG = np.random.default_rng(2025)"
   ]
  },
  {
   "cell_type": "markdown",
   "id": "a7ee3b20",
   "metadata": {},
   "source": [
    "## Weight → β conversion\n",
    "\n",
    "Heavier balls induce negative β (harder to draw), lighter ones positive.\n",
    "We normalise around the mean weight and scale by an interpretable coupling constant *k*."
   ]
  },
  {
   "cell_type": "code",
   "execution_count": null,
   "id": "bd8408e5",
   "metadata": {},
   "outputs": [],
   "source": [
    "def weight_based_bias(weights: np.ndarray, k: float = 0.15) -> np.ndarray:\n",
    "    weights = np.asarray(weights, dtype=float)\n",
    "    centered = weights - weights.mean()\n",
    "    beta = -k * centered / (np.abs(centered).max() + 1e-9)\n",
    "    beta -= beta.mean()\n",
    "    return np.clip(beta, -0.9, 0.9)"
   ]
  },
  {
   "cell_type": "markdown",
   "id": "8e0e0873",
   "metadata": {},
   "source": [
    "## Monte Carlo scenarios\n",
    "\n",
    "We explore three machine states: balanced, front-loaded, and tail-heavy."
   ]
  },
  {
   "cell_type": "code",
   "execution_count": null,
   "id": "9695de80",
   "metadata": {},
   "outputs": [],
   "source": [
    "scenarios = {\n",
    "    'Balanced': np.array([100, 102, 101, 99, 98, 100]),\n",
    "    'Front-loaded': np.array([95, 96, 97, 103, 104, 105]),\n",
    "    'Tail-heavy': np.array([105, 104, 103, 97, 96, 95]),\n",
    "}\n",
    "\n",
    "sample_size = 2000\n",
    "results = []\n",
    "for name, weights in scenarios.items():\n",
    "    beta = weight_based_bias(weights, k=0.2)\n",
    "    probs = wamecu_probabilities(len(weights), beta)\n",
    "    draws = simulate_draws(probs, sample_size, seed=RNG.integers(0, 2**32 - 1))\n",
    "    counts = np.bincount(draws, minlength=len(weights))\n",
    "    expected = probs * sample_size\n",
    "    stat, pval = chi_square_test(counts, expected)\n",
    "    df = pd.DataFrame({\n",
    "        'Outcome': np.arange(len(weights)),\n",
    "        'Observed': counts,\n",
    "        'Expected': expected,\n",
    "        'Scenario': name,\n",
    "    })\n",
    "    df['chi2_stat'] = stat\n",
    "    df['chi2_pvalue'] = pval\n",
    "    results.append(df)\n",
    "scenario_df = pd.concat(results, ignore_index=True)"
   ]
  },
  {
   "cell_type": "code",
   "execution_count": null,
   "id": "358b8a37",
   "metadata": {},
   "outputs": [],
   "source": [
    "g = sns.catplot(\n",
    "    data=scenario_df.melt(id_vars=['Outcome', 'Scenario', 'chi2_stat', 'chi2_pvalue'], value_vars=['Observed', 'Expected']),\n",
    "    x='Outcome', y='value', hue='variable', col='Scenario', kind='bar', height=4, aspect=1\n",
    ")\n",
    "g.fig.subplots_adjust(top=0.8)\n",
    "g.fig.suptitle('Observed vs expected counts across weight scenarios')\n",
    "plt.show()\n",
    "\n",
    "scenario_summary = scenario_df.groupby('Scenario')[['chi2_stat', 'chi2_pvalue']].first()\n",
    "scenario_summary"
   ]
  },
  {
   "cell_type": "markdown",
   "id": "8f1c2cc8",
   "metadata": {},
   "source": [
    "## Sensitivity analysis\n",
    "\n",
    "We estimate how many draws are needed to flag a bias (χ² p-value < 0.05) for varying coupling constants."
   ]
  },
  {
   "cell_type": "code",
   "execution_count": null,
   "id": "1ead1789",
   "metadata": {},
   "outputs": [],
   "source": [
    "def detectability_threshold(k_values, sample_grid, trials=60, alpha=0.05):\n",
    "    thresholds = []\n",
    "    base_weights = scenarios['Balanced']\n",
    "    for k in k_values:\n",
    "        beta = weight_based_bias(base_weights, k=k)\n",
    "        probs = wamecu_probabilities(len(base_weights), beta)\n",
    "        detected_at = None\n",
    "        for sample_size in sample_grid:\n",
    "            detections = 0\n",
    "            for _ in range(trials):\n",
    "                draws = simulate_draws(probs, sample_size, seed=RNG.integers(0, 2**32 - 1))\n",
    "                counts = np.bincount(draws, minlength=len(base_weights))\n",
    "                stat, pval = chi_square_test(counts, probs * sample_size)\n",
    "                detections += pval < alpha\n",
    "            rate = detections / trials\n",
    "            if rate >= 0.8:\n",
    "                detected_at = sample_size\n",
    "                break\n",
    "        thresholds.append(detected_at or np.nan)\n",
    "    return np.array(thresholds)\n",
    "\n",
    "k_values = np.linspace(0.05, 0.4, 8)\n",
    "sample_grid = [200, 400, 600, 800, 1000]\n",
    "thresholds = detectability_threshold(k_values, sample_grid)\n",
    "\n",
    "plt.figure(figsize=(8, 4))\n",
    "plt.plot(k_values, thresholds, marker='o')\n",
    "plt.xlabel('Coupling constant k (weight → β)')\n",
    "plt.ylabel('Sample size for ≥80% detection rate')\n",
    "plt.title('Sensitivity of detection to coupling strength')\n",
    "plt.grid(True)\n",
    "plt.tight_layout()\n",
    "plt.show()\n",
    "\n",
    "pd.DataFrame({'k': k_values, 'sample_size_for_detection': thresholds})"
   ]
  },
  {
   "cell_type": "markdown",
   "id": "8b380fe1",
   "metadata": {},
   "source": [
    "## Reflections\n",
    "\n",
    "* Moderate coupling (k≈0.2) is detectable with ~600 draws.\n",
    "* Edge cases (k<0.1) require impractically long runs, underscoring the need for richer sensors.\n",
    "* The twin stays firmly in the audit domain—no exploitation, just diagnostics."
   ]
  }
 ],
 "metadata": {
  "kernelspec": {
   "display_name": "Python 3",
   "language": "python",
   "name": "python3"
  }
 },
 "nbformat": 4,
 "nbformat_minor": 5
}
