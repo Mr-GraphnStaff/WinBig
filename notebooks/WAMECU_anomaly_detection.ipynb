{
 "cells": [
  {
   "cell_type": "markdown",
   "id": "6560a248",
   "metadata": {},
   "source": [
    "# WAMECU Anomaly Detection Notebook\n",
    "\n",
    "This notebook extends the prototype simulation by applying statistical tests to synthetic draws. We examine how chi-square and entropy diagnostics react when bias is present in the WAMECU coefficients."
   ]
  },
  {
   "cell_type": "code",
   "execution_count": 1,
   "id": "e1a3837d",
   "metadata": {
    "execution": {
     "iopub.execute_input": "2025-09-28T01:13:30.476725Z",
     "iopub.status.busy": "2025-09-28T01:13:30.476392Z",
     "iopub.status.idle": "2025-09-28T01:13:32.800024Z",
     "shell.execute_reply": "2025-09-28T01:13:32.798662Z"
    }
   },
   "outputs": [],
   "source": [
    "import sys\n",
    "from pathlib import Path\n",
    "\n",
    "import matplotlib.pyplot as plt\n",
    "import numpy as np\n",
    "import pandas as pd\n",
    "\n",
    "plt.style.use(\"seaborn-v0_8\")\n",
    "\n",
    "project_root = Path().resolve()\n",
    "for candidate in {project_root / \"src\", project_root.parent / \"src\"}:\n",
    "    if candidate.exists() and str(candidate) not in sys.path:\n",
    "        sys.path.append(str(candidate))\n",
    "\n",
    "from wamecu import (\n",
    "    chi_square_statistic,\n",
    "    entropy_gap,\n",
    "    simulate_draws,\n",
    "    wamecu_probabilities,\n",
    ")\n"
   ]
  },
  {
   "cell_type": "markdown",
   "id": "7cc3e84a",
   "metadata": {},
   "source": [
    "## 1. Generate Synthetic Draws\n",
    "\n",
    "We reuse the six-outcome system from the prototype. The bias vector amplifies the first outcome and suppresses the final outcome, mimicking a skewed die."
   ]
  },
  {
   "cell_type": "code",
   "execution_count": 2,
   "id": "500ce91c",
   "metadata": {
    "execution": {
     "iopub.execute_input": "2025-09-28T01:13:32.804730Z",
     "iopub.status.busy": "2025-09-28T01:13:32.803977Z",
     "iopub.status.idle": "2025-09-28T01:13:32.832578Z",
     "shell.execute_reply": "2025-09-28T01:13:32.831661Z"
    }
   },
   "outputs": [
    {
     "data": {
      "text/html": [
       "<div>\n",
       "<style scoped>\n",
       "    .dataframe tbody tr th:only-of-type {\n",
       "        vertical-align: middle;\n",
       "    }\n",
       "\n",
       "    .dataframe tbody tr th {\n",
       "        vertical-align: top;\n",
       "    }\n",
       "\n",
       "    .dataframe thead th {\n",
       "        text-align: right;\n",
       "    }\n",
       "</style>\n",
       "<table border=\"1\" class=\"dataframe\">\n",
       "  <thead>\n",
       "    <tr style=\"text-align: right;\">\n",
       "      <th></th>\n",
       "      <th>observed</th>\n",
       "      <th>expected</th>\n",
       "      <th>deviation</th>\n",
       "    </tr>\n",
       "  </thead>\n",
       "  <tbody>\n",
       "    <tr>\n",
       "      <th>0</th>\n",
       "      <td>3593</td>\n",
       "      <td>3600.000000</td>\n",
       "      <td>-7.000000</td>\n",
       "    </tr>\n",
       "    <tr>\n",
       "      <th>1</th>\n",
       "      <td>3426</td>\n",
       "      <td>3400.000000</td>\n",
       "      <td>26.000000</td>\n",
       "    </tr>\n",
       "    <tr>\n",
       "      <th>2</th>\n",
       "      <td>3313</td>\n",
       "      <td>3300.000000</td>\n",
       "      <td>13.000000</td>\n",
       "    </tr>\n",
       "    <tr>\n",
       "      <th>3</th>\n",
       "      <td>3387</td>\n",
       "      <td>3266.666667</td>\n",
       "      <td>120.333333</td>\n",
       "    </tr>\n",
       "    <tr>\n",
       "      <th>4</th>\n",
       "      <td>3230</td>\n",
       "      <td>3333.333333</td>\n",
       "      <td>-103.333333</td>\n",
       "    </tr>\n",
       "    <tr>\n",
       "      <th>5</th>\n",
       "      <td>3051</td>\n",
       "      <td>3100.000000</td>\n",
       "      <td>-49.000000</td>\n",
       "    </tr>\n",
       "  </tbody>\n",
       "</table>\n",
       "</div>"
      ],
      "text/plain": [
       "   observed     expected   deviation\n",
       "0      3593  3600.000000   -7.000000\n",
       "1      3426  3400.000000   26.000000\n",
       "2      3313  3300.000000   13.000000\n",
       "3      3387  3266.666667  120.333333\n",
       "4      3230  3333.333333 -103.333333\n",
       "5      3051  3100.000000  -49.000000"
      ]
     },
     "execution_count": 2,
     "metadata": {},
     "output_type": "execute_result"
    }
   ],
   "source": [
    "n_outcomes = 6\n",
    "beta = np.array([0.08, 0.02, -0.01, -0.02, 0.0, -0.07])\n",
    "probabilities = wamecu_probabilities(n_outcomes, beta)\n",
    "n_trials = 20000\n",
    "outcomes = simulate_draws(probabilities, n_trials, seed=123)\n",
    "counts = pd.Series(outcomes).value_counts().sort_index().rename('observed')\n",
    "expected = pd.Series(probabilities * n_trials, name='expected')\n",
    "summary = pd.concat([counts, expected], axis=1)\n",
    "summary['deviation'] = summary['observed'] - summary['expected']\n",
    "summary"
   ]
  },
  {
   "cell_type": "markdown",
   "id": "e93e634f",
   "metadata": {},
   "source": [
    "## 2. Visualize the Bias\n",
    "\n",
    "The bar chart emphasizes where the empirical counts deviate from expectation."
   ]
  },
  {
   "cell_type": "code",
   "execution_count": 3,
   "id": "32b70de3",
   "metadata": {
    "execution": {
     "iopub.execute_input": "2025-09-28T01:13:32.836252Z",
     "iopub.status.busy": "2025-09-28T01:13:32.835961Z",
     "iopub.status.idle": "2025-09-28T01:13:33.049877Z",
     "shell.execute_reply": "2025-09-28T01:13:33.048827Z"
    }
   },
   "outputs": [
    {
     "data": {
      "image/png": "[encoded data removed]",
      "text/plain": [
       "<Figure size 800x400 with 1 Axes>"
      ]
     },
     "metadata": {},
     "output_type": "display_data"
    }
   ],
   "source": [
    "fig, ax = plt.subplots(figsize=(8, 4))\n",
    "index = np.arange(n_outcomes)\n",
    "ax.bar(index - 0.15, summary['observed'], width=0.3, label=\"Observed\", color=\"#4C72B0\")\n",
    "ax.bar(index + 0.15, summary['expected'], width=0.3, label=\"Expected\", color=\"#55A868\")\n",
    "ax.set_xlabel(\"Outcome\")\n",
    "ax.set_ylabel(\"Count\")\n",
    "ax.set_title(\"Empirical vs. Expected Counts under WAMECU Bias\")\n",
    "ax.set_xticks(index)\n",
    "ax.legend()\n",
    "plt.show()\n"
   ]
  },
  {
   "cell_type": "markdown",
   "id": "9bb497ec",
   "metadata": {},
   "source": [
    "## 3. Chi-square Test\n",
    "\n",
    "A chi-square goodness-of-fit test quantifies the probability that the observed counts arose from the unbiased baseline distribution."
   ]
  },
  {
   "cell_type": "code",
   "execution_count": 4,
   "id": "bd9e96cc",
   "metadata": {
    "execution": {
     "iopub.execute_input": "2025-09-28T01:13:33.053562Z",
     "iopub.status.busy": "2025-09-28T01:13:33.053073Z",
     "iopub.status.idle": "2025-09-28T01:13:33.062351Z",
     "shell.execute_reply": "2025-09-28T01:13:33.061224Z"
    }
   },
   "outputs": [
    {
     "data": {
      "text/plain": [
       "(50.90920000000001, 9.02720231898968e-10)"
      ]
     },
     "execution_count": 4,
     "metadata": {},
     "output_type": "execute_result"
    }
   ],
   "source": [
    "baseline_prob = np.full(n_outcomes, 1.0 / n_outcomes)\n",
    "expected_baseline = baseline_prob * n_trials\n",
    "chi2_stat, chi2_p = chi_square_statistic(summary['observed'].values, expected_baseline)\n",
    "chi2_stat, chi2_p"
   ]
  },
  {
   "cell_type": "markdown",
   "id": "c42aa84c",
   "metadata": {},
   "source": [
    "A small p-value indicates that the unbiased baseline is implausible. Here the test rejects the null hypothesis, signalling detectable bias in the draws."
   ]
  },
  {
   "cell_type": "markdown",
   "id": "a5ba4c83",
   "metadata": {},
   "source": [
    "## 4. Entropy Diagnostics\n",
    "\n",
    "Entropy measures disorder in the distribution. Comparing the empirical entropy to the unbiased baseline reveals whether the system exhibits additional structure (lower entropy) or noise (higher entropy)."
   ]
  },
  {
   "cell_type": "code",
   "execution_count": 5,
   "id": "9bcfc8b2",
   "metadata": {
    "execution": {
     "iopub.execute_input": "2025-09-28T01:13:33.065501Z",
     "iopub.status.busy": "2025-09-28T01:13:33.065193Z",
     "iopub.status.idle": "2025-09-28T01:13:33.071952Z",
     "shell.execute_reply": "2025-09-28T01:13:33.070733Z"
    }
   },
   "outputs": [
    {
     "data": {
      "text/plain": [
       "-0.0018435666532918837"
      ]
     },
     "execution_count": 5,
     "metadata": {},
     "output_type": "execute_result"
    }
   ],
   "source": [
    "empirical_prob = summary['observed'].values / n_trials\n",
    "entropy_difference = entropy_gap(empirical_prob, baseline_prob)\n",
    "entropy_difference"
   ]
  },
  {
   "cell_type": "markdown",
   "id": "b756ef8c",
   "metadata": {},
   "source": [
    "A negative entropy gap means the empirical draws are more concentrated than the uniform baseline, consistent with the chi-square alert. Positive values would indicate higher randomness than expected."
   ]
  }
 ],
 "metadata": {
  "kernelspec": {
   "display_name": "Python 3",
   "language": "python",
   "name": "python3"
  },
  "language_info": {
   "codemirror_mode": {
    "name": "ipython",
    "version": 3
   },
   "file_extension": ".py",
   "mimetype": "text/x-python",
   "name": "python",
   "nbconvert_exporter": "python",
   "pygments_lexer": "ipython3",
   "version": "3.12.10"
  }
 },
 "nbformat": 4,
 "nbformat_minor": 5
}
