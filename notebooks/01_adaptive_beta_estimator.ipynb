{
 "cells": [
  {
   "cell_type": "markdown",
   "id": "c4e1eb38",
   "metadata": {},
   "source": [
    "# 01 · Adaptive β Estimator Field Manual\n",
    "\n",
    "This notebook operationalizes the **WAMECU manifesto** by stress-testing online estimators on a drifting bias field.\n",
    "We simulate a sinusoidally nudged random walk for β, stream draws, and compare an EWMA tracker against a per-outcome Kalman filter.\n",
    "Random seeds are fixed to keep the experiment reproducible."
   ]
  },
  {
   "cell_type": "code",
   "execution_count": null,
   "id": "484718d5",
   "metadata": {},
   "outputs": [],
   "source": [
    "import numpy as np\n",
    "import pandas as pd\n",
    "import matplotlib.pyplot as plt\n",
    "import seaborn as sns\n",
    "\n",
    "from wamecu import BetaDriftConfig, beta_drift, ewma_estimator, kalman_tracker, stream_draws\n",
    "\n",
    "plt.style.use('seaborn-v0_8')\n",
    "RNG = np.random.default_rng(1234)"
   ]
  },
  {
   "cell_type": "markdown",
   "id": "87cadb17",
   "metadata": {},
   "source": [
    "## Configure the drifting β field\n",
    "\n",
    "We combine a light random walk with a sinusoidal push on outcome 0 to mimic a mechanical wobble."
   ]
  },
  {
   "cell_type": "code",
   "execution_count": null,
   "id": "a44f1a68",
   "metadata": {},
   "outputs": [],
   "source": [
    "n_outcomes = 5\n",
    "n_steps = 360\n",
    "config = BetaDriftConfig(\n",
    "    n_steps=n_steps,\n",
    "    n_outcomes=n_outcomes,\n",
    "    walk_scale=0.025,\n",
    "    sin_amplitude=0.06,\n",
    "    sin_period=90,\n",
    "    clip=0.9,\n",
    "    seed=7,\n",
    ")\n",
    "true_beta = beta_drift(config)\n",
    "\n",
    "# Stream draws driven by the drifting β field\n",
    "stream_seed = 31415\n",
    "observations = stream_draws(true_beta, seed=stream_seed)\n",
    "assert len(observations) == n_steps"
   ]
  },
  {
   "cell_type": "markdown",
   "id": "26e7e881",
   "metadata": {},
   "source": [
    "## Run online estimators\n",
    "\n",
    "Both estimators only ingest the categorical stream and must track β in real time."
   ]
  },
  {
   "cell_type": "code",
   "execution_count": null,
   "id": "375e5683",
   "metadata": {},
   "outputs": [],
   "source": [
    "ewma_history = ewma_estimator(observations, n_outcomes=n_outcomes, alpha=0.08)\n",
    "kalman_history = kalman_tracker(observations, n_outcomes=n_outcomes, process_var=0.01, observation_var=0.1)\n",
    "\n",
    "rmse_ewma = np.sqrt(((ewma_history - true_beta) ** 2).mean(axis=1))\n",
    "rmse_kalman = np.sqrt(((kalman_history - true_beta) ** 2).mean(axis=1))\n",
    "rmse = pd.DataFrame({\n",
    "    'step': np.arange(n_steps),\n",
    "    'EWMA': rmse_ewma,\n",
    "    'Kalman': rmse_kalman,\n",
    "})"
   ]
  },
  {
   "cell_type": "markdown",
   "id": "6d4b25bd",
   "metadata": {},
   "source": [
    "## Visual comparison\n",
    "\n",
    "We focus on outcome 0 (the sinusoidally perturbed channel) and aggregate error metrics."
   ]
  },
  {
   "cell_type": "code",
   "execution_count": null,
   "id": "0d45328a",
   "metadata": {},
   "outputs": [],
   "source": [
    "fig, axes = plt.subplots(2, 1, figsize=(10, 8), sharex=True)\n",
    "axes[0].plot(true_beta[:, 0], label='True β₀', color='black', linewidth=2)\n",
    "axes[0].plot(ewma_history[:, 0], label='EWMA estimate', alpha=0.8)\n",
    "axes[0].plot(kalman_history[:, 0], label='Kalman estimate', alpha=0.8)\n",
    "axes[0].set_ylabel('β value')\n",
    "axes[0].set_title('Outcome 0 drift vs. online estimates')\n",
    "axes[0].legend()\n",
    "\n",
    "axes[1].plot(rmse['step'], rmse['EWMA'], label='EWMA RMSE')\n",
    "axes[1].plot(rmse['step'], rmse['Kalman'], label='Kalman RMSE')\n",
    "axes[1].set_xlabel('Step')\n",
    "axes[1].set_ylabel('RMSE')\n",
    "axes[1].set_title('Rolling RMSE across the horizon')\n",
    "axes[1].legend()\n",
    "plt.tight_layout()\n",
    "plt.show()"
   ]
  },
  {
   "cell_type": "markdown",
   "id": "601660e7",
   "metadata": {},
   "source": [
    "## Rolling error analysis\n",
    "\n",
    "RMSE windows reveal how quickly each estimator recovers after sharp changes."
   ]
  },
  {
   "cell_type": "code",
   "execution_count": null,
   "id": "07a8baea",
   "metadata": {},
   "outputs": [],
   "source": [
    "window = 30\n",
    "rolling_rmse = rmse.set_index('step').rolling(window=window, min_periods=1).mean()\n",
    "rolling_rmse.plot(figsize=(10, 4))\n",
    "plt.title(f'{window}-step rolling RMSE (lower is better)')\n",
    "plt.ylabel('RMSE')\n",
    "plt.xlabel('Step')\n",
    "plt.tight_layout()\n",
    "plt.show()"
   ]
  },
  {
   "cell_type": "markdown",
   "id": "bbc6d528",
   "metadata": {},
   "source": [
    "## Takeaways\n",
    "\n",
    "* The Kalman tracker responds faster to shocks but can overshoot on quiet stretches.\n",
    "* The EWMA estimator is smoother and lower variance once the drift stabilizes.\n",
    "* Both trackers honor the WAMECU manifesto by adapting to *Weight–Atmosphere–Mechanics* perturbations without leaking exploitative strategies."
   ]
  }
 ],
 "metadata": {
  "kernelspec": {
   "display_name": "Python 3",
   "language": "python",
   "name": "python3"
  }
 },
 "nbformat": 4,
 "nbformat_minor": 5
}
