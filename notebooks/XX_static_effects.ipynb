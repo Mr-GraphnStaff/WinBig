{
  "cells": [
    {
      "cell_type": "markdown",
      "metadata": {},
      "source": [
        "# Electrostatic Sensitivity Exploration\n",
        "\n",
        "**Purpose**: explore how hypothetical electrostatic charge patterns could perturb the WAMECU bias term $\\beta$ in a controlled sandbox.\n",
        "\n",
        "**Reproducibility**: every simulation call fixes explicit seeds, keeps hyperparameters small for smoke tests, and stores assumptions in the code cells.\n",
        "\n",
        "**Ethics note**: this notebook is for diagnostics only. It does not operationalise or recommend tampering with regulated draws; any real-world anomaly should be disclosed to oversight bodies for remediation."
      ],
      "id": "6530ecdd1b7e4dda925124f0b762b6b0"
    },
    {
      "cell_type": "code",
      "metadata": {},
      "execution_count": null,
      "outputs": [],
      "source": [
        "import numpy as np\n",
        "import pandas as pd\n",
        "import matplotlib.pyplot as plt\n",
        "from itertools import product\n",
        "\n",
        "from wamecu import simulate_with_static, estimate_static_effect\n",
        "\n",
        "plt.style.use('ggplot')\n",
        "SEED = 2024\n",
        "np.set_printoptions(precision=3, suppress=True)"
      ],
      "id": "f322c6936b6144a392c6518903421f3c"
    },
    {
      "cell_type": "markdown",
      "metadata": {},
      "source": [
        "## Single-run inspection\n",
        "\n",
        "We start with six outcomes and inspect how the generated charges map to $\\beta$ and observed counts."
      ],
      "id": "9043386ca6df41aea43996ff2b79ad94"
    },
    {
      "cell_type": "code",
      "metadata": {},
      "execution_count": null,
      "outputs": [],
      "source": [
        "baseline = simulate_with_static(\n",
        "    n_outcomes=6,\n",
        "    q_scale=1e-9,\n",
        "    humidity=40,\n",
        "    trials_per_draw=200,\n",
        "    seed=SEED,\n",
        ")\n",
        "base_df = pd.DataFrame(\n",
        "    {\n",
        "        'outcome': np.arange(len(baseline['q'])),\n",
        "        'charge_C': baseline['q'],\n",
        "        'beta': baseline['beta'],\n",
        "        'probability': baseline['probs'],\n",
        "        'counts': baseline['counts'],\n",
        "    }\n",
        ")\n",
        "base_df['empirical_rate'] = base_df['counts'] / base_df['counts'].sum()\n",
        "effect = estimate_static_effect(\n",
        "    baseline['q'], baseline['counts'], trials=baseline['counts'].sum()\n",
        ")\n",
        "base_df"
      ],
      "id": "13921871dd5a496a82d9418042db85d9"
    },
    {
      "cell_type": "code",
      "metadata": {},
      "execution_count": null,
      "outputs": [],
      "source": [
        "fig, axes = plt.subplots(1, 2, figsize=(12, 4), constrained_layout=True)\n",
        "\n",
        "axes[0].scatter(base_df['charge_C'], base_df['beta'], color='C0')\n",
        "axes[0].axhline(0.0, color='black', lw=0.8)\n",
        "axes[0].set_title('Charge vs beta')\n",
        "axes[0].set_xlabel('Charge (C)')\n",
        "axes[0].set_ylabel('Beta')\n",
        "\n",
        "axes[1].scatter(base_df['probability'], base_df['empirical_rate'], color='C1')\n",
        "axes[1].plot(\n",
        "    [0, 1 / len(base_df)],\n",
        "    [0, 1 / len(base_df)],\n",
        "    color='black',\n",
        "    linestyle='--',\n",
        "    lw=0.8,\n",
        ")\n",
        "axes[1].set_xlim(0, base_df['probability'].max() * 1.1)\n",
        "axes[1].set_ylim(0, base_df['empirical_rate'].max() * 1.1)\n",
        "axes[1].set_title('Model vs empirical rates')\n",
        "axes[1].set_xlabel('Model probability')\n",
        "axes[1].set_ylabel('Empirical frequency')\n",
        "\n",
        "fig.suptitle(f'Baseline static effect estimate: {effect:.3e}', fontsize=12)\n",
        "plt.show()"
      ],
      "id": "a3c36a7bab8f43518449f6ea2a4a1e60"
    },
    {
      "cell_type": "markdown",
      "metadata": {},
      "source": [
        "## Sensitivity sweep\n",
        "\n",
        "We now sweep across plausible charge scales and humidity levels. Each cell uses 200 draws to keep the runtime suitable for automated smoke tests."
      ],
      "id": "61e6e92c47394e2681d8c793f119d2c2"
    },
    {
      "cell_type": "code",
      "metadata": {},
      "execution_count": null,
      "outputs": [],
      "source": [
        "q_scales = [1e-10, 1e-9, 5e-9]\n",
        "humidities = [20, 40, 60]\n",
        "repetitions = 20\n",
        "records = []\n",
        "base_rng = np.random.default_rng(SEED)\n",
        "for rep in range(repetitions):\n",
        "    for q_scale, humidity in product(q_scales, humidities):\n",
        "        seed = int(base_rng.integers(0, 2**32 - 1))\n",
        "        sim = simulate_with_static(\n",
        "            n_outcomes=6,\n",
        "            q_scale=q_scale,\n",
        "            humidity=humidity,\n",
        "            trials_per_draw=200,\n",
        "            seed=seed,\n",
        "        )\n",
        "        counts = sim['counts']\n",
        "        empirical = counts / counts.sum()\n",
        "        uniform = np.full_like(empirical, 1 / len(empirical))\n",
        "        rmse = float(np.sqrt(np.mean((empirical - uniform) ** 2)))\n",
        "        effect = estimate_static_effect(sim['q'], counts, trials=counts.sum())\n",
        "        records.append(\n",
        "            {\n",
        "                'rep': rep,\n",
        "                'q_scale': q_scale,\n",
        "                'humidity': humidity,\n",
        "                'effect': effect,\n",
        "                'rmse': rmse,\n",
        "            }\n",
        "        )\n",
        "results = pd.DataFrame(records)\n",
        "results.head()"
      ],
      "id": "8328ad7321ad4e15bdc80db385f4b9d2"
    },
    {
      "cell_type": "code",
      "metadata": {},
      "execution_count": null,
      "outputs": [],
      "source": [
        "summary = (\n",
        "    results.groupby(['q_scale', 'humidity']).agg(\n",
        "        effect_mean=('effect', 'mean'),\n",
        "        effect_std=('effect', 'std'),\n",
        "        rmse_mean=('rmse', 'mean'),\n",
        "    )\n",
        ").reset_index()\n",
        "summary"
      ],
      "id": "6af1832e959f4384951d912051d37a59"
    },
    {
      "cell_type": "code",
      "metadata": {},
      "execution_count": null,
      "outputs": [],
      "source": [
        "pivot_rmse = summary.pivot(index='q_scale', columns='humidity', values='rmse_mean')\n",
        "fig, ax = plt.subplots(figsize=(6, 4))\n",
        "heatmap = ax.imshow(pivot_rmse.values, aspect='auto', origin='lower', cmap='viridis')\n",
        "ax.set_xticks(range(len(pivot_rmse.columns)))\n",
        "ax.set_xticklabels(pivot_rmse.columns)\n",
        "ax.set_yticks(range(len(pivot_rmse.index)))\n",
        "ax.set_yticklabels([f'{v:.0e}' for v in pivot_rmse.index])\n",
        "ax.set_xlabel('Humidity (%)')\n",
        "ax.set_ylabel('Charge scale (C, log)')\n",
        "ax.set_title('RMSE of empirical vs uniform rates')\n",
        "fig.colorbar(heatmap, ax=ax, label='RMSE')\n",
        "plt.show()"
      ],
      "id": "61e62aa2338949f3b5ed656050ac3867"
    },
    {
      "cell_type": "code",
      "metadata": {},
      "execution_count": null,
      "outputs": [],
      "source": [
        "fig, ax = plt.subplots(figsize=(6, 4))\n",
        "for humidity in humidities:\n",
        "    subset = summary[summary['humidity'] == humidity]\n",
        "    ax.errorbar(\n",
        "        subset['q_scale'],\n",
        "        subset['effect_mean'],\n",
        "        yerr=subset['effect_std'],\n",
        "        label=f'{humidity}% RH',\n",
        "    )\n",
        "ax.set_xscale('log')\n",
        "ax.set_xlabel('Charge scale (C)')\n",
        "ax.set_ylabel('Estimated effect (slope)')\n",
        "ax.set_title('Charge-humidity interaction on effect size')\n",
        "ax.legend()\n",
        "plt.show()"
      ],
      "id": "6af3b4a4b4de4279b6ca7b0f2f6c3fc1"
    },
    {
      "cell_type": "markdown",
      "metadata": {},
      "source": [
        "## Takeaways\n",
        "\n",
        "- Low humidity amplifies the simulated electrostatic bias.\n",
        "- The RMSE metric remains small but increases with charge magnitude, indicating mild departures from uniformity.\n",
        "- Effect estimates stay centred around zero for tiny charges, aligning with our conservative defaults."
      ],
      "id": "ba79ea9d463a4de99889ce132c6ea14d"
    }
  ],
  "metadata": {
    "kernelspec": {
      "display_name": "Python 3",
      "language": "python",
      "name": "python3"
    },
    "language_info": {
      "name": "python",
      "version": "3.11"
    }
  },
  "nbformat": 4,
  "nbformat_minor": 5
}