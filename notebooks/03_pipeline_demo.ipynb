{
 "cells": [
  {
   "cell_type": "markdown",
   "id": "6e79c217",
   "metadata": {},
   "source": [
    "# 03 · Pipeline Demo\n",
    "\n",
    "We stitch together the manifesto pipeline: simulate β drift, run anomaly tests, and monitor estimators.\n",
    "The goal is an audit dashboard, not a playbook for exploitation."
   ]
  },
  {
   "cell_type": "code",
   "execution_count": null,
   "id": "4faebc79",
   "metadata": {},
   "outputs": [],
   "source": [
    "import numpy as np\n",
    "import pandas as pd\n",
    "import matplotlib.pyplot as plt\n",
    "import seaborn as sns\n",
    "from scipy.stats import chi2\n",
    "\n",
    "from wamecu import (\n",
    "    BetaDriftConfig,\n",
    "    beta_drift,\n",
    "    ewma_estimator,\n",
    "    kalman_tracker,\n",
    "    stream_draws,\n",
    "    chi_square_test,\n",
    "    shannon_entropy,\n",
    "    wamecu_probabilities,\n",
    ")\n",
    "\n",
    "plt.style.use('seaborn-v0_8')\n",
    "RNG = np.random.default_rng(11)"
   ]
  },
  {
   "cell_type": "markdown",
   "id": "506c8600",
   "metadata": {},
   "source": [
    "## Simulate a monitoring scenario\n",
    "\n",
    "We introduce a mid-run hardware nudge that amplifies β for outcomes 2 and 3."
   ]
  },
  {
   "cell_type": "code",
   "execution_count": null,
   "id": "2cc9cf3b",
   "metadata": {},
   "outputs": [],
   "source": [
    "n_outcomes = 6\n",
    "n_steps = 420\n",
    "config = BetaDriftConfig(\n",
    "    n_steps=n_steps,\n",
    "    n_outcomes=n_outcomes,\n",
    "    walk_scale=0.02,\n",
    "    sin_amplitude=0.05,\n",
    "    sin_period=120,\n",
    "    clip=0.85,\n",
    "    seed=99,\n",
    ")\n",
    "base_beta = beta_drift(config)\n",
    "adjustment = np.zeros_like(base_beta)\n",
    "adjustment[200:, 2:4] += 0.15\n",
    "true_beta = np.clip(base_beta + adjustment, -0.9, 0.9)\n",
    "observations = stream_draws(true_beta, seed=4242)\n",
    "assert len(observations) == n_steps"
   ]
  },
  {
   "cell_type": "markdown",
   "id": "ff94acff",
   "metadata": {},
   "source": [
    "## Diagnostic metrics\n",
    "\n",
    "We compute chi-square and entropy deviations over a sliding window."
   ]
  },
  {
   "cell_type": "code",
   "execution_count": null,
   "id": "b7be4fbf",
   "metadata": {},
   "outputs": [],
   "source": [
    "window = 40\n",
    "chi_stats = []\n",
    "entropy_scores = []\n",
    "support = np.arange(n_outcomes)\n",
    "baseline_probs = np.full(n_outcomes, 1 / n_outcomes)\n",
    "for t in range(window, n_steps + 1):\n",
    "    window_obs = observations[t - window : t]\n",
    "    counts = np.bincount(window_obs, minlength=n_outcomes)\n",
    "    expected = baseline_probs * window\n",
    "    stat, pval = chi_square_test(counts, expected)\n",
    "    chi_stats.append({'step': t - 1, 'chi2_stat': stat, 'chi2_pvalue': pval})\n",
    "    empirical_probs = counts / window\n",
    "    entropy_scores.append({'step': t - 1, 'entropy': shannon_entropy(empirical_probs)})\n",
    "chi_df = pd.DataFrame(chi_stats)\n",
    "entropy_df = pd.DataFrame(entropy_scores)"
   ]
  },
  {
   "cell_type": "markdown",
   "id": "0977b1e4",
   "metadata": {},
   "source": [
    "## Permutation entropy (toy)\n",
    "\n",
    "We approximate permutation entropy on the rolling draw stream to capture ordering anomalies."
   ]
  },
  {
   "cell_type": "code",
   "execution_count": null,
   "id": "200f7df0",
   "metadata": {},
   "outputs": [],
   "source": [
    "def permutation_entropy(series, order=3):\n",
    "    series = np.asarray(series, dtype=float)\n",
    "    if series.size < order:\n",
    "        return np.nan\n",
    "    patterns = {}\n",
    "    for i in range(len(series) - order + 1):\n",
    "        pattern = tuple(series[i : i + order].argsort())\n",
    "        patterns[pattern] = patterns.get(pattern, 0) + 1\n",
    "    counts = np.array(list(patterns.values()), dtype=float)\n",
    "    probs = counts / counts.sum()\n",
    "    mask = probs > 0\n",
    "    return -np.sum(probs[mask] * np.log2(probs[mask]))\n",
    "\n",
    "perm_window = 12\n",
    "perm_records = []\n",
    "for t in range(perm_window, n_steps + 1):\n",
    "    segment = observations[t - perm_window : t]\n",
    "    score = permutation_entropy(segment, order=3)\n",
    "    perm_records.append({'step': t - 1, 'permutation_entropy': score})\n",
    "perm_df = pd.DataFrame(perm_records)"
   ]
  },
  {
   "cell_type": "markdown",
   "id": "2df19dbc",
   "metadata": {},
   "source": [
    "## Adaptive estimators\n",
    "\n",
    "We deploy the EWMA and Kalman trackers to recover β dynamics."
   ]
  },
  {
   "cell_type": "code",
   "execution_count": null,
   "id": "cfa7cf99",
   "metadata": {},
   "outputs": [],
   "source": [
    "ewma_trace = ewma_estimator(observations, n_outcomes=n_outcomes, alpha=0.07)\n",
    "kalman_trace = kalman_tracker(observations, n_outcomes=n_outcomes, process_var=0.008, observation_var=0.08)\n",
    "\n",
    "summary = pd.DataFrame({\n",
    "    'step': np.arange(n_steps),\n",
    "    'true_beta_2': true_beta[:, 2],\n",
    "    'ewma_beta_2': ewma_trace[:, 2],\n",
    "    'kalman_beta_2': kalman_trace[:, 2],\n",
    "})\n",
    "summary.head()"
   ]
  },
  {
   "cell_type": "markdown",
   "id": "1cbd14fe",
   "metadata": {},
   "source": [
    "## Dashboard figure\n",
    "\n",
    "Panels show (a) drift, (b) anomaly scores, and (c) estimator traces."
   ]
  },
  {
   "cell_type": "code",
   "execution_count": null,
   "id": "bcca1156",
   "metadata": {},
   "outputs": [],
   "source": [
    "fig, axes = plt.subplots(3, 1, figsize=(12, 12), sharex=True)\n",
    "axes[0].plot(summary['step'], summary['true_beta_2'], color='black', label='True β₂', linewidth=2)\n",
    "axes[0].set_ylabel('β₂')\n",
    "axes[0].set_title('True drift for outcome 2')\n",
    "axes[0].legend()\n",
    "\n",
    "axes[1].plot(chi_df['step'], chi_df['chi2_stat'], label='χ² statistic')\n",
    "axes[1].axhline(chi2.ppf(0.95, df=n_outcomes - 1), color='red', linestyle='--', label='95% threshold')\n",
    "axes[1].set_ylabel('χ² stat')\n",
    "axes[1].set_title('Chi-square anomaly score')\n",
    "axes[1].legend()\n",
    "\n",
    "axes[2].plot(summary['step'], summary['ewma_beta_2'], label='EWMA β₂')\n",
    "axes[2].plot(summary['step'], summary['kalman_beta_2'], label='Kalman β₂')\n",
    "axes[2].set_xlabel('Step')\n",
    "axes[2].set_ylabel('β₂ estimate')\n",
    "axes[2].set_title('Estimator traces')\n",
    "axes[2].legend()\n",
    "\n",
    "plt.tight_layout()\n",
    "plt.show()"
   ]
  },
  {
   "cell_type": "markdown",
   "id": "cd164f5a",
   "metadata": {},
   "source": [
    "## Additional diagnostics\n",
    "\n",
    "Permutation entropy dips alongside the hardware nudge, complementing χ² spikes."
   ]
  },
  {
   "cell_type": "code",
   "execution_count": null,
   "id": "a6c94d96",
   "metadata": {},
   "outputs": [],
   "source": [
    "fig, ax = plt.subplots(figsize=(12, 4))\n",
    "ax.plot(entropy_df['step'], entropy_df['entropy'], label='Shannon entropy', color='teal')\n",
    "ax2 = ax.twinx()\n",
    "ax2.plot(perm_df['step'], perm_df['permutation_entropy'], label='Permutation entropy', color='purple', alpha=0.6)\n",
    "ax.set_xlabel('Step')\n",
    "ax.set_ylabel('Shannon entropy (bits)')\n",
    "ax2.set_ylabel('Permutation entropy (bits)')\n",
    "ax.set_title('Entropy diagnostics over time')\n",
    "ax.legend(loc='upper left')\n",
    "ax2.legend(loc='upper right')\n",
    "plt.tight_layout()\n",
    "plt.show()"
   ]
  },
  {
   "cell_type": "markdown",
   "id": "fe233451",
   "metadata": {},
   "source": [
    "## Conclusion\n",
    "\n",
    "* The anomaly stack (χ² + entropy) highlights the biased epoch clearly.\n",
    "* Kalman reacts faster, while EWMA stabilises post-nudge—mirroring notebook 01.\n",
    "* Future work: integrate quantum-drift hypotheses and entropy-leak cartography for cross-sensor validation."
   ]
  }
 ],
 "metadata": {
  "kernelspec": {
   "display_name": "Python 3",
   "language": "python",
   "name": "python3"
  }
 },
 "nbformat": 4,
 "nbformat_minor": 5
}
